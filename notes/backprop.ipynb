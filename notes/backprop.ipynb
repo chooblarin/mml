{
 "cells": [
  {
   "cell_type": "markdown",
   "metadata": {},
   "source": [
    "# Back propagation\n",
    "\n",
    "$w^{l}_{jk}$ is the weight from the $k$th neuron in the $(l-1)$th layer to the $j$th neuron in the $l$th layer.\n",
    "\n",
    "$b^{l}_{j}$ is the bias of the $j$th neuron in the $l$ layer. \n",
    "\n",
    "The error $\\delta ^{l}_{j}$ of neuron $j$ in layer $l$ by\n",
    "\n",
    "$$\n",
    "\\delta ^{l}_{j} \\equiv \\frac{\\partial C}{\\partial z^{l}_{j}}\n",
    "$$\n",
    "\n",
    "---\n",
    "\n",
    "An equation for the error in the output layer, $\\delta ^{L}$\n",
    "\n",
    "$$\n",
    "\\delta ^{L} = \\nabla _{a} C \\odot \\sigma '(z^{L})\n",
    "$$\n",
    "\n",
    "\n",
    "An equation for the error $\\delta ^{l}$ in terms of the error in the next layer, $\\delta ^{l+1}$\n",
    "\n",
    "$$\n",
    "\\delta ^{l} = ((w^{l+1})^{T}\\delta ^{l+1}) \\odot \\sigma '(z^{l})\n",
    "$$\n",
    "\n",
    "\n",
    "An equation for the rate of change of the cost with respect to any bias in the network\n",
    "\n",
    "$$\n",
    "\\frac{\\partial C}{\\partial b^{l}_{j}} = \\delta ^{l}_{j}\n",
    "$$\n",
    "\n",
    "An equation for the rate of change of the cost with respect to any weight in the network\n",
    "\n",
    "$$\n",
    "\\frac{\\partial C}{\\partial w^{l}_{jk}} =  a^{l-1}_{k}\\delta ^{l}_{j}\n",
    "$$\n"
   ]
  },
  {
   "cell_type": "markdown",
   "metadata": {
    "collapsed": true
   },
   "source": [
    "# Links\n",
    "\n",
    "- [How the backpropagation algorithm works](http://neuralnetworksanddeeplearning.com/chap2.html)"
   ]
  },
  {
   "cell_type": "code",
   "execution_count": null,
   "metadata": {
    "collapsed": true
   },
   "outputs": [],
   "source": []
  }
 ],
 "metadata": {
  "kernelspec": {
   "display_name": "Python [Root]",
   "language": "python",
   "name": "Python [Root]"
  },
  "language_info": {
   "codemirror_mode": {
    "name": "ipython",
    "version": 3
   },
   "file_extension": ".py",
   "mimetype": "text/x-python",
   "name": "python",
   "nbconvert_exporter": "python",
   "pygments_lexer": "ipython3",
   "version": "3.5.1"
  }
 },
 "nbformat": 4,
 "nbformat_minor": 0
}
